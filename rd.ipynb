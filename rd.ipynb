{
 "cells": [
  {
   "cell_type": "code",
   "execution_count": 1,
   "metadata": {},
   "outputs": [],
   "source": [
    "import sqlite3"
   ]
  },
  {
   "cell_type": "code",
   "execution_count": 28,
   "metadata": {},
   "outputs": [],
   "source": [
    "con = sqlite3.connect('w5.db')\n",
    "cur = con.cursor()"
   ]
  },
  {
   "cell_type": "code",
   "execution_count": 26,
   "metadata": {},
   "outputs": [],
   "source": [
    "def select_gpax():\n",
    "    cur.execute('SELECT * FROM gpax')\n",
    "    rows = cur.fetchall()\n",
    "    return rows\n",
    "\n",
    "def select_gpa():\n",
    "    cur.execute('SELECT * FROM gpa')\n",
    "    rows = cur.fetchall()\n",
    "    return rows\n",
    "\n",
    "def select_sub():\n",
    "    cur.execute('SELECT * FROM subjects')\n",
    "    rows = cur.fetchall()\n",
    "    return rows\n",
    "def closecon():\n",
    "    con.commit()\n",
    "    con.close()"
   ]
  },
  {
   "cell_type": "code",
   "execution_count": 4,
   "metadata": {},
   "outputs": [],
   "source": [
    "grades = {\n",
    "    'A' : 4,\n",
    "    'B+' : 3.5,\n",
    "    'B' : 3,\n",
    "    'C+' : 2.5,\n",
    "    'C' : 2,\n",
    "    'D+' : 1.5,\n",
    "    'D' : 1,\n",
    "    'F' : 0,\n",
    "}"
   ]
  },
  {
   "cell_type": "code",
   "execution_count": 43,
   "metadata": {},
   "outputs": [],
   "source": [
    "import random\n",
    "gpa_last = select_gpa()[-1][0]          # last id of gpa\n",
    "gpax_last = select_gpax()[-1][0]        # last id of gpax\n",
    "sub_last = select_sub()[-1][0]          # last id of subjects"
   ]
  },
  {
   "cell_type": "code",
   "execution_count": 41,
   "metadata": {},
   "outputs": [],
   "source": [
    "def checkrowcount():\n",
    "    gpa_last = select_gpa()[-1][0]          # last id of gpa\n",
    "    gpax_last = select_gpax()[-1][0]        # last id of gpax\n",
    "    sub_last = select_sub()[-1][0]          # last id of subjects\n",
    "    print('gpa',gpa_last)\n",
    "    print('gpax',gpax_last)\n",
    "    print('subjects',sub_last)"
   ]
  },
  {
   "cell_type": "code",
   "execution_count": 44,
   "metadata": {},
   "outputs": [],
   "source": [
    "ran = [1,2,3]\n",
    "def randomgpax(k):\n",
    "    checkrowcount()\n",
    "    rand = random.choices(ran,weights=[0.15,0.1,0.75],k=k) # random 1.x 2.x 3.x\n",
    "    for i in rand:\n",
    "        gpax_last += 1\n",
    "        cur.execute('''INSERT INTO gpax(GpaxID, GPAx)\n",
    "        VALUES (%d, %.2f)'''%(gpax_last,i+random.random())) #random last 2 digit of grades"
   ]
  },
  {
   "cell_type": "code",
   "execution_count": 45,
   "metadata": {},
   "outputs": [],
   "source": [
    "def randomgpa(k):\n",
    "    checkrowcount()\n",
    "    rand = random.choices(ran,weights=[0.15,0.1,0.75],k=k)\n",
    "    for i in rand:\n",
    "        gpa_last += 1\n",
    "        cur.execute('''INSERT INTO gpa(GpaID, GPA)\n",
    "        VALUES (%d, %.2f)'''%(gpa_last,i+random.random())) #random last 2 digit of grades"
   ]
  },
  {
   "cell_type": "code",
   "execution_count": 25,
   "metadata": {},
   "outputs": [],
   "source": [
    "closecon()"
   ]
  },
  {
   "cell_type": "code",
   "execution_count": 90,
   "metadata": {},
   "outputs": [],
   "source": [
    "grades = {\n",
    "    'A' : 4,\n",
    "    'B+' : 3.5,\n",
    "    'B' : 3,\n",
    "    'C+' : 2.5,\n",
    "    'C' : 2,\n",
    "    'D+' : 1.5,\n",
    "    'D' : 1,\n",
    "    'F' : 0,\n",
    "}"
   ]
  },
  {
   "cell_type": "code",
   "execution_count": 88,
   "metadata": {},
   "outputs": [],
   "source": [
    "def randgrade():\n",
    "    g = random.choices(list(grades.items()),weights=(0.7,0.6,0.7,0.6,0.7,0.4,0.3,0.3))\n",
    "    return g "
   ]
  },
  {
   "cell_type": "code",
   "execution_count": 50,
   "metadata": {},
   "outputs": [
    {
     "name": "stdout",
     "output_type": "stream",
     "text": [
      "100000\n"
     ]
    }
   ],
   "source": [
    "iD = select_sub()[-1][0]+1\n",
    "print(iD-1)"
   ]
  },
  {
   "cell_type": "code",
   "execution_count": 49,
   "metadata": {},
   "outputs": [],
   "source": [
    "n = 100000          # limit of subjects row\n",
    "while iD  < n:\n",
    "    for i in range(3):  #How many people before coming back to copy the first\n",
    "        rows = select_con(i)\n",
    "        uid_temp = 0\n",
    "        gpa_temp = 0\n",
    "        for j in rows:\n",
    "            temp = list(j)\n",
    "            rand = randgrade()[0]\n",
    "            temp[0] = iD\n",
    "            iD += 1\n",
    "            temp[4] = rand[0]\n",
    "            temp[5] = rand[1]\n",
    "            temp[8] += uid_gpax\n",
    "            temp[9] += gpaid\n",
    "            temp[10] += uid_gpax\n",
    "            finished_tuple = tuple(temp)\n",
    "            print(finished_tuple)\n",
    "            cur.execute('''INSERT INTO subjects(ID, real_subject_id, subject_name, credit, grade_char, grade_int, year, semester, UserID, GpaID_id, GpaxID_id)\n",
    "            VALUES '''+str(finished_tuple))\n",
    "\n",
    "    uid_gpax = temp[8]\n",
    "    gpaid = temp[9]"
   ]
  },
  {
   "cell_type": "code",
   "execution_count": 36,
   "metadata": {},
   "outputs": [],
   "source": [
    "# reduce table rows\n",
    "def limit_table(table_name,uid_name,limit):\n",
    "    cur.execute(\"DELETE FROM %s WHERE %s IN (SELECT %s FROM %s WHERE %s > %d)\"%(table_name,uid_name,uid_name,table_name,uid_name,limit))"
   ]
  },
  {
   "cell_type": "code",
   "execution_count": 42,
   "metadata": {},
   "outputs": [
    {
     "name": "stdout",
     "output_type": "stream",
     "text": [
      "gpa 50000\n",
      "gpax 100000\n",
      "subjects 100000\n"
     ]
    }
   ],
   "source": [
    "limit_table('gpa','gpaid',50000)\n",
    "checkrowcount()"
   ]
  },
  {
   "cell_type": "code",
   "execution_count": null,
   "metadata": {},
   "outputs": [],
   "source": []
  }
 ],
 "metadata": {
  "kernelspec": {
   "display_name": "Python 3",
   "language": "python",
   "name": "python3"
  },
  "language_info": {
   "codemirror_mode": {
    "name": "ipython",
    "version": 3
   },
   "file_extension": ".py",
   "mimetype": "text/x-python",
   "name": "python",
   "nbconvert_exporter": "python",
   "pygments_lexer": "ipython3",
   "version": "3.10.9"
  },
  "orig_nbformat": 4,
  "vscode": {
   "interpreter": {
    "hash": "b0fa6594d8f4cbf19f97940f81e996739fb7646882a419484c72d19e05852a7e"
   }
  }
 },
 "nbformat": 4,
 "nbformat_minor": 2
}
